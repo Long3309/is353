{
 "cells": [
  {
   "cell_type": "code",
   "execution_count": 2,
   "metadata": {},
   "outputs": [],
   "source": [
    "import pandas as pd\n",
    "import re"
   ]
  },
  {
   "cell_type": "code",
   "execution_count": 7,
   "metadata": {},
   "outputs": [
    {
     "data": {
      "text/html": [
       "<div>\n",
       "<style scoped>\n",
       "    .dataframe tbody tr th:only-of-type {\n",
       "        vertical-align: middle;\n",
       "    }\n",
       "\n",
       "    .dataframe tbody tr th {\n",
       "        vertical-align: top;\n",
       "    }\n",
       "\n",
       "    .dataframe thead th {\n",
       "        text-align: right;\n",
       "    }\n",
       "</style>\n",
       "<table border=\"1\" class=\"dataframe\">\n",
       "  <thead>\n",
       "    <tr style=\"text-align: right;\">\n",
       "      <th></th>\n",
       "      <th>year</th>\n",
       "      <th>title</th>\n",
       "    </tr>\n",
       "  </thead>\n",
       "  <tbody>\n",
       "    <tr>\n",
       "      <th>13201</th>\n",
       "      <td>1960.0</td>\n",
       "      <td>The 1,000 Eyes of Dr. Mabuse</td>\n",
       "    </tr>\n",
       "  </tbody>\n",
       "</table>\n",
       "</div>"
      ],
      "text/plain": [
       "         year                         title\n",
       "13201  1960.0  The 1,000 Eyes of Dr. Mabuse"
      ]
     },
     "execution_count": 7,
     "metadata": {},
     "output_type": "execute_result"
    }
   ],
   "source": [
    "df = pd.read_csv(\"movie_titles_new.csv\")\n",
    "df[df[\"title\"] =='The 1,000 Eyes of Dr. Mabuse']"
   ]
  },
  {
   "cell_type": "code",
   "execution_count": 9,
   "metadata": {},
   "outputs": [
    {
     "name": "stdout",
     "output_type": "stream",
     "text": [
      "          movie_id  user_id  rating        date\n",
      "0                1  1488844       3  2005-09-06\n",
      "1                1   822109       5  2005-05-13\n",
      "2                1   885013       4  2005-10-19\n",
      "3                1    30878       4  2005-12-26\n",
      "4                1   823519       3  2004-05-03\n",
      "...            ...      ...     ...         ...\n",
      "24053759      4499  2591364       2  2005-02-16\n",
      "24053760      4499  1791000       2  2005-02-10\n",
      "24053761      4499   512536       5  2005-07-27\n",
      "24053762      4499   988963       3  2005-12-20\n",
      "24053763      4499  1704416       3  2004-06-02\n",
      "\n",
      "[24053764 rows x 4 columns]\n"
     ]
    }
   ],
   "source": [
    "with open(\"netflix/combined_data_1.txt\", \"r\") as file:\n",
    "    lines = file.readlines()\n",
    "data = []  # Danh sách để lưu dữ liệu từ tệp\n",
    "\n",
    "\n",
    "# Biểu thức chính quy để tìm kiếm dòng bắt đầu với số:\n",
    "pattern = re.compile(r'^(\\d+):')\n",
    "\n",
    "# Biến để theo dõi movie_id hiện tại\n",
    "current_movie_id = None\n",
    "\n",
    "for line in lines:\n",
    "    line = line.strip()\n",
    "    match = pattern.match(line)\n",
    "    if match:\n",
    "        current_movie_id = int(match.group(1))  # Lấy movie_id từ dòng\n",
    "    else:\n",
    "        parts = line.split(',')\n",
    "        user_id = int(parts[0])\n",
    "        rating = int(parts[1])\n",
    "        date = parts[2]\n",
    "        data.append([current_movie_id, user_id, rating, date])\n",
    "\n",
    "# Tạo DataFrame từ danh sách dữ liệu\n",
    "df = pd.DataFrame(data, columns=['movie_id', 'user_id', 'rating', 'date'])\n",
    "\n",
    "# In ra DataFrame\n"
   ]
  },
  {
   "cell_type": "code",
   "execution_count": 12,
   "metadata": {},
   "outputs": [],
   "source": [
    "df.to_pickle(\"combined_data_1.pkl\")"
   ]
  },
  {
   "cell_type": "code",
   "execution_count": 4,
   "metadata": {},
   "outputs": [],
   "source": [
    "for i in range(2,5):\n",
    "    with open(f\"netflix/combined_data_{i}.txt\", \"r\") as file:\n",
    "        lines = file.readlines()\n",
    "    data = []  # Danh sách để lưu dữ liệu từ tệp\n",
    "    \n",
    "    # Biểu thức chính quy để tìm kiếm dòng bắt đầu với số:\n",
    "    pattern = re.compile(r'^(\\d+):')\n",
    "    # Biến để theo dõi movie_id hiện tại\n",
    "    current_movie_id = None\n",
    "\n",
    "    for line in lines:\n",
    "        line = line.strip()\n",
    "        match = pattern.match(line)\n",
    "        if match:\n",
    "            current_movie_id = int(match.group(1))  # Lấy movie_id từ dòng\n",
    "        else:\n",
    "            parts = line.split(',')\n",
    "            user_id = int(parts[0])\n",
    "            rating = int(parts[1])\n",
    "            date = parts[2]\n",
    "            data.append([current_movie_id, user_id, rating, date])\n",
    "    # Tạo DataFrame từ danh sách dữ liệu\n",
    "    df = pd.DataFrame(data, columns=['movie_id', 'user_id', 'rating', 'date'])\n",
    "    df.to_pickle(f\"combined_data_{i}.pkl\")\n"
   ]
  },
  {
   "cell_type": "code",
   "execution_count": 8,
   "metadata": {},
   "outputs": [
    {
     "data": {
      "text/plain": [
       "470758"
      ]
     },
     "execution_count": 8,
     "metadata": {},
     "output_type": "execute_result"
    }
   ],
   "source": [
    "len(df[\"user_id\"].unique())"
   ]
  }
 ],
 "metadata": {
  "kernelspec": {
   "display_name": "code",
   "language": "python",
   "name": "python3"
  },
  "language_info": {
   "codemirror_mode": {
    "name": "ipython",
    "version": 3
   },
   "file_extension": ".py",
   "mimetype": "text/x-python",
   "name": "python",
   "nbconvert_exporter": "python",
   "pygments_lexer": "ipython3",
   "version": "3.11.2"
  }
 },
 "nbformat": 4,
 "nbformat_minor": 2
}
